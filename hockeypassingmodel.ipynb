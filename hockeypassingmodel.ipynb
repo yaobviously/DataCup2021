{
  "nbformat": 4,
  "nbformat_minor": 0,
  "metadata": {
    "colab": {
      "name": "hockeypassingmodel.ipynb",
      "provenance": [],
      "collapsed_sections": []
    },
    "kernelspec": {
      "name": "python3",
      "display_name": "Python 3"
    },
    "language_info": {
      "name": "python"
    }
  },
  "cells": [
    {
      "cell_type": "code",
      "metadata": {
        "id": "tzxue3kzdz6N"
      },
      "source": [
        "!pip install category_encoders --quiet\n",
        "!pip install shap --quiet\n",
        "!pip install pdpbox --quiet"
      ],
      "execution_count": null,
      "outputs": []
    },
    {
      "cell_type": "code",
      "metadata": {
        "id": "O8BBGMhpd6Hn"
      },
      "source": [
        "import pandas as pd\n",
        "import numpy as np\n",
        "import matplotlib.pyplot as plt\n",
        "import seaborn as sns\n",
        "import datetime\n",
        "import shap\n",
        "import math\n",
        "from pdpbox.pdp import pdp_isolate, pdp_plot, pdp_interact, pdp_interact_plot\n",
        "from category_encoders import OrdinalEncoder\n",
        "from sklearn.impute import SimpleImputer\n",
        "from sklearn.inspection import permutation_importance\n",
        "from sklearn.pipeline import make_pipeline\n",
        "from sklearn.ensemble import RandomForestClassifier\n",
        "from sklearn.ensemble import GradientBoostingClassifier\n",
        "from xgboost import XGBClassifier\n",
        "from sklearn.model_selection import RandomizedSearchCV\n",
        "from sklearn.metrics import classification_report, plot_roc_curve, plot_confusion_matrix\n",
        "from sklearn.metrics import roc_curve\n",
        "from sklearn.metrics import roc_auc_score\n",
        "\n",
        "URL = 'https://raw.githubusercontent.com/yaobviously/DataCup2021/main/modifiedohl.csv'"
      ],
      "execution_count": 2,
      "outputs": []
    },
    {
      "cell_type": "code",
      "metadata": {
        "id": "Hwp96x1plC_i"
      },
      "source": [
        "def wrangle(URL):\n",
        "  df = pd.read_csv(URL,\n",
        "                   parse_dates = ['game_date'],\n",
        "                   index_col = 'game_date')\n",
        "  \n",
        "  # dropping columns i made awhile ago that i don't need to build models, \n",
        "  # although they may be handy for communicating insights. all of the score\n",
        "  # and player differentials can now, i see, be reduced to single columns for\n",
        "  # the purposes of model building\n",
        "\n",
        "  col_drop = ['Unnamed: 0', 'possSet', 'shots_next_ten', 'goal_next_ten', \n",
        "              '5on5', '5on4home', '5on3home', '5on4away', '5on3away', \n",
        "              '4on4', 'tie', 'home_ahead_1', 'home_ahead_2', 'home_ahead_3ormore',\n",
        "              'away_ahead_1', 'away_ahead_2', 'away_ahead_3ormore', 'home_team',\n",
        "              'away_team', 'is_shot', 'detail_2']\n",
        "\n",
        "  df = df.drop(columns = col_drop).copy()\n",
        "  df = df.rename(columns = {'detail_3' : 'traffic', 'detail_4' : 'one_timer',\n",
        "                            'detail_1' : 'pass_type'})\n",
        "  \n",
        "  # condensing the above columns\n",
        "\n",
        "  df['home_skater_adv'] = df['home_team_skaters'] - df['away_team_skaters']\n",
        "  df['home_score_diff'] = df['home_team_goals'] - df['away_team_goals']\n",
        "  df['is_shot'] = [1 if event in ['Goal', 'Shot'] else 0 for event in df['event']]\n",
        "\n",
        "  # converting the clock column to the seconds remaining in the period in the\n",
        "  # ugliest way imaginable\n",
        "  \n",
        "  df['min'] = df.clock.apply(lambda x: datetime.datetime.strptime(x,'%M:%S')).dt.minute\n",
        "  df['sec'] = df.clock.apply(lambda x: datetime.datetime.strptime(x, '%M:%S')).dt.second\n",
        "  df['period_sec_rem'] = df['min'] * 60 + df['sec']\n",
        "  \n",
        "  df.drop(columns = 'clock', inplace = True)\n",
        "\n",
        "  # calculating the seconds remaining in the game, mostly for practice (needed!)\n",
        "\n",
        "  def gamesecs(x):\n",
        "  \n",
        "    if x['period'] == 1:\n",
        "      return x['period_sec_rem'] + 2400\n",
        "\n",
        "    if x['period'] == 2:\n",
        "      return x['period_sec_rem'] + 1200\n",
        "  \n",
        "    else:\n",
        "      return x['period_sec_rem']\n",
        "\n",
        "  df['game_sec_rem'] = df.apply(gamesecs, axis = 1)\n",
        "\n",
        "  # creating new columns that contain info on prior game states\n",
        "\n",
        "  df['x_coordinate_1back'] = df['x_coordinate'].shift()\n",
        "  df['y_coordinate_1back'] = df['y_coordinate'].shift()\n",
        "  df['x_coordinate_2back'] = df['x_coordinate'].shift(2)\n",
        "  df['y_coordinate_2back'] = df['y_coordinate'].shift(2)\n",
        "  df['event_1back'] = df['event'].shift()\n",
        "  df['event_2back'] = df['event'].shift(2)\n",
        "\n",
        "  df['sec_last_event'] = np.abs(df.groupby(['gameid', 'period'])['period_sec_rem'].diff())\n",
        "  df['sec_2ndlast_event'] = np.abs(df.groupby(['gameid', 'period'])['period_sec_rem'].diff(2))\n",
        "\n",
        "  # dropping redundant and leaky columns. note 'event' may be useful for\n",
        "  # finding and creating useful (and non-leaky) features\n",
        "  \n",
        "  df.drop(columns = ['min', 'sec'], inplace = True)\n",
        "\n",
        "  # dropping columns with negligible importance. note 'team' & 'period may be \n",
        "  # useful for finding and creating useful (and non-leaky) features.\n",
        "\n",
        "  lowimp_columns = ['away_team_goals', 'home_team_goals', \n",
        "                    'home_team_skaters','away_team_skaters', 'traffic', 'event_2back',\n",
        "                    'game_sec_rem', 'period', 'gameid', 'one_timer',\n",
        "                    'is_shot',  'is_goal', 'period_sec_rem',\n",
        "                    'sec_last_event', 'x_coordinate_1back', 'y_coordinate_1back',\n",
        "                    'event_1back', 'x_coordinate_2back', 'y_coordinate_2back',\n",
        "                    'sec_2ndlast_event', 'home_score_diff']\n",
        "\n",
        "  \n",
        "\n",
        "  df.drop(lowimp_columns, axis = 1, inplace = True)\n",
        "  \n",
        "  # Filtering the DataFrame to include only rows in which a pass was recorded\n",
        "\n",
        "  df = df[df['event'].isin(['Play', 'Incomplete Play'])]\n",
        "  df['event'] = df['event'].map({'Play' : 1, 'Incomplete Play' : 0})\n",
        "\n",
        "  # adding a feature or two\n",
        "\n",
        "  df['forward_pass'] = (df['x_coordinate_2'] > df['x_coordinate']).astype(int)\n",
        "  df['x_dist'] = df['x_coordinate_2'] - df['x_coordinate']\n",
        "  df['y_dist'] = df['y_coordinate_2'] - df['y_coordinate']\n",
        "  df['pass_distance'] = np.sqrt(df['x_dist'] ** 2 + df['y_dist'] ** 2)\n",
        "  df['pass_angle'] = [math.asin(x) for x in (df['y_dist'] / df['pass_distance'])]\n",
        "\n",
        "  df.drop(columns = ['x_dist', 'y_dist', 'pass_distance'], inplace = True)\n",
        "  df = df.rename(columns = {'event' : 'pass_success'})\n",
        "\n",
        "  return df"
      ],
      "execution_count": 3,
      "outputs": []
    },
    {
      "cell_type": "code",
      "metadata": {
        "id": "f4CLmjtxmiC5"
      },
      "source": [
        "# below i create a smaller dataframe with information that will be stitched back\n",
        "# onto the main df to assess and compare player skill\n",
        "\n",
        "df = wrangle(URL)\n",
        "\n",
        "player_eval = df[['player', 'player_2', 'team']].copy()\n",
        "\n",
        "df.drop(columns = player_eval.columns, inplace = True)"
      ],
      "execution_count": 4,
      "outputs": []
    },
    {
      "cell_type": "code",
      "metadata": {
        "colab": {
          "base_uri": "https://localhost:8080/"
        },
        "id": "6gslgDFEqXgb",
        "outputId": "8dbe0511-0856-4a0e-d66f-92b48e334b99"
      },
      "source": [
        "# this is the baseline frequency of pass succes\n",
        "\n",
        "baseline_frequency = df.pass_success.value_counts(normalize = True).max()\n",
        "print('Using the base rate as the predictor would yield an accuracy of:', baseline_frequency)"
      ],
      "execution_count": 12,
      "outputs": [
        {
          "output_type": "stream",
          "text": [
            "Using the base rate as the predictor would yield an accuracy of: 0.727868250275499\n"
          ],
          "name": "stdout"
        }
      ]
    },
    {
      "cell_type": "code",
      "metadata": {
        "id": "Wpic_8Bkm1o1"
      },
      "source": [
        "# identifying the target and dividing the data into train, eval, and test sets\n",
        "\n",
        "target = 'pass_success'\n",
        "\n",
        "train_threshold = '2020-01-20'\n",
        "#test_threshold = '2020-02-13'\n",
        "\n",
        "mask = df.index < train_threshold\n",
        "#mask2 = df.index > test_threshold\n",
        "\n",
        "X = df.drop(target, axis = 1)\n",
        "y = df[target]\n",
        "\n",
        "X_train, y_train = X[mask], y[mask]\n",
        "#X_val, y_val = X[~mask & ~mask2], y[~mask & ~mask2]\n",
        "X_test, y_test = X[~mask], y[~mask]"
      ],
      "execution_count": 13,
      "outputs": []
    },
    {
      "cell_type": "code",
      "metadata": {
        "id": "NYpcQfr7qBsP"
      },
      "source": [
        "# specifying the model. the parameters were chosen using to optimize auc score. \n",
        "# n_estimators was chosen using the eval set.\n",
        "\n",
        "model_xg = make_pipeline(\n",
        "    OrdinalEncoder(),\n",
        "    SimpleImputer(),\n",
        "    XGBClassifier(objective = 'binary:logistic',\n",
        "                  eval_method = 'auc',\n",
        "                  max_depth = 3,\n",
        "                  n_estimators = 500)\n",
        ")\n",
        "    \n",
        "model_xg.fit(X_train, y_train)"
      ],
      "execution_count": null,
      "outputs": []
    },
    {
      "cell_type": "code",
      "metadata": {
        "colab": {
          "base_uri": "https://localhost:8080/",
          "height": 295
        },
        "id": "SweOh-peqTKA",
        "outputId": "f81deac8-0b06-43c6-f054-976e20b3c0c7"
      },
      "source": [
        "# plotting the ROC curve for the XGBoost passing model\n",
        "\n",
        "fp, tp, thr = roc_curve(y_test, model_xg.predict_proba(X_test)[:,1])\n",
        "\n",
        "plt.plot(fp, tp, c = 'blue')\n",
        "plt.plot([0,1], ls = '--', c = 'orange')\n",
        "plt.title('ROC Curve for the XGBoost Model')\n",
        "plt.xlabel('False Positive Rate')\n",
        "plt.ylabel('True Positive Rate')\n",
        "plt.show();"
      ],
      "execution_count": 357,
      "outputs": [
        {
          "output_type": "display_data",
          "data": {
            "image/png": "[encoded data removed]",
            "text/plain": [
              "<Figure size 432x288 with 1 Axes>"
            ]
          },
          "metadata": {
            "tags": [],
            "needs_background": "light"
          }
        }
      ]
    },
    {
      "cell_type": "code",
      "metadata": {
        "colab": {
          "base_uri": "https://localhost:8080/",
          "height": 162
        },
        "id": "oe6C_hBprCoj",
        "outputId": "b72c5a8f-19db-467d-a1de-ad045d9f657c"
      },
      "source": [
        "print('The AUC score for the XGBoost model is:', roc_auc_score(y_test, model_xg.predict_proba(X_test)[:,1]))"
      ],
      "execution_count": 5,
      "outputs": [
        {
          "output_type": "error",
          "ename": "NameError",
          "evalue": "ignored",
          "traceback": [
            "\u001b[0;31m---------------------------------------------------------------------------\u001b[0m",
            "\u001b[0;31mNameError\u001b[0m                                 Traceback (most recent call last)",
            "\u001b[0;32m<ipython-input-5-f9fc2aae3722>\u001b[0m in \u001b[0;36m<module>\u001b[0;34m()\u001b[0m\n\u001b[0;32m----> 1\u001b[0;31m \u001b[0mprint\u001b[0m\u001b[0;34m(\u001b[0m\u001b[0;34m'The AUC score for the XGBoost model is:'\u001b[0m\u001b[0;34m,\u001b[0m \u001b[0mroc_auc_score\u001b[0m\u001b[0;34m(\u001b[0m\u001b[0my_test\u001b[0m\u001b[0;34m,\u001b[0m \u001b[0mmodel_xg\u001b[0m\u001b[0;34m.\u001b[0m\u001b[0mpredict_proba\u001b[0m\u001b[0;34m(\u001b[0m\u001b[0mX_test\u001b[0m\u001b[0;34m)\u001b[0m\u001b[0;34m[\u001b[0m\u001b[0;34m:\u001b[0m\u001b[0;34m,\u001b[0m\u001b[0;36m1\u001b[0m\u001b[0;34m]\u001b[0m\u001b[0;34m)\u001b[0m\u001b[0;34m)\u001b[0m\u001b[0;34m\u001b[0m\u001b[0;34m\u001b[0m\u001b[0m\n\u001b[0m",
            "\u001b[0;31mNameError\u001b[0m: name 'y_test' is not defined"
          ]
        }
      ]
    },
    {
      "cell_type": "code",
      "metadata": {
        "colab": {
          "base_uri": "https://localhost:8080/"
        },
        "id": "P7H2t2zrtCE5",
        "outputId": "67f8119a-f98a-4553-f51a-db152a4fd8a1"
      },
      "source": [
        "# creating a feature importances series from the parameters of the model object\n",
        "\n",
        "features = model_xg.named_steps['ordinalencoder'].get_feature_names()\n",
        "importances = model_xg.named_steps['xgbclassifier'].feature_importances_\n",
        "\n",
        "pd.Series(importances, index = features)"
      ],
      "execution_count": 359,
      "outputs": [
        {
          "output_type": "execute_result",
          "data": {
            "text/plain": [
              "x_coordinate       0.057565\n",
              "y_coordinate       0.046371\n",
              "pass_type          0.141661\n",
              "x_coordinate_2     0.102235\n",
              "y_coordinate_2     0.094718\n",
              "home_skater_adv    0.164751\n",
              "home_score_diff    0.025582\n",
              "forward_pass       0.308621\n",
              "pass_angle         0.058496\n",
              "dtype: float32"
            ]
          },
          "metadata": {
            "tags": []
          },
          "execution_count": 359
        }
      ]
    },
    {
      "cell_type": "code",
      "metadata": {
        "colab": {
          "base_uri": "https://localhost:8080/",
          "height": 314
        },
        "id": "UUS0uSvNy-Wy",
        "outputId": "e8d5d38f-74f8-45bc-9a72-7373f2bf4337"
      },
      "source": [
        "# creating a feature importances dataframe using the permutation importance \n",
        "# function.\n",
        "\n",
        "perm_imp = permutation_importance(model_xg, X_test, y_test, n_repeats = 5)\n",
        "\n",
        "perm_dict = {\n",
        "    'means' : perm_imp['importances_mean'],\n",
        "    'std' : perm_imp['importances_std']\n",
        "}\n",
        "\n",
        "pd.DataFrame(perm_dict, index = features)"
      ],
      "execution_count": 341,
      "outputs": [
        {
          "output_type": "execute_result",
          "data": {
            "text/html": [
              "<div>\n",
              "<style scoped>\n",
              "    .dataframe tbody tr th:only-of-type {\n",
              "        vertical-align: middle;\n",
              "    }\n",
              "\n",
              "    .dataframe tbody tr th {\n",
              "        vertical-align: top;\n",
              "    }\n",
              "\n",
              "    .dataframe thead th {\n",
              "        text-align: right;\n",
              "    }\n",
              "</style>\n",
              "<table border=\"1\" class=\"dataframe\">\n",
              "  <thead>\n",
              "    <tr style=\"text-align: right;\">\n",
              "      <th></th>\n",
              "      <th>means</th>\n",
              "      <th>std</th>\n",
              "    </tr>\n",
              "  </thead>\n",
              "  <tbody>\n",
              "    <tr>\n",
              "      <th>x_coordinate</th>\n",
              "      <td>0.030486</td>\n",
              "      <td>0.003686</td>\n",
              "    </tr>\n",
              "    <tr>\n",
              "      <th>y_coordinate</th>\n",
              "      <td>0.003356</td>\n",
              "      <td>0.001094</td>\n",
              "    </tr>\n",
              "    <tr>\n",
              "      <th>pass_type</th>\n",
              "      <td>0.027432</td>\n",
              "      <td>0.003274</td>\n",
              "    </tr>\n",
              "    <tr>\n",
              "      <th>x_coordinate_2</th>\n",
              "      <td>0.045419</td>\n",
              "      <td>0.001610</td>\n",
              "    </tr>\n",
              "    <tr>\n",
              "      <th>y_coordinate_2</th>\n",
              "      <td>0.047398</td>\n",
              "      <td>0.003692</td>\n",
              "    </tr>\n",
              "    <tr>\n",
              "      <th>home_skater_adv</th>\n",
              "      <td>0.002621</td>\n",
              "      <td>0.001505</td>\n",
              "    </tr>\n",
              "    <tr>\n",
              "      <th>home_score_diff</th>\n",
              "      <td>-0.000245</td>\n",
              "      <td>0.000779</td>\n",
              "    </tr>\n",
              "    <tr>\n",
              "      <th>forward_pass</th>\n",
              "      <td>0.007127</td>\n",
              "      <td>0.001149</td>\n",
              "    </tr>\n",
              "    <tr>\n",
              "      <th>pass_angle</th>\n",
              "      <td>0.010313</td>\n",
              "      <td>0.000863</td>\n",
              "    </tr>\n",
              "  </tbody>\n",
              "</table>\n",
              "</div>"
            ],
            "text/plain": [
              "                    means       std\n",
              "x_coordinate     0.030486  0.003686\n",
              "y_coordinate     0.003356  0.001094\n",
              "pass_type        0.027432  0.003274\n",
              "x_coordinate_2   0.045419  0.001610\n",
              "y_coordinate_2   0.047398  0.003692\n",
              "home_skater_adv  0.002621  0.001505\n",
              "home_score_diff -0.000245  0.000779\n",
              "forward_pass     0.007127  0.001149\n",
              "pass_angle       0.010313  0.000863"
            ]
          },
          "metadata": {
            "tags": []
          },
          "execution_count": 341
        }
      ]
    },
    {
      "cell_type": "code",
      "metadata": {
        "colab": {
          "base_uri": "https://localhost:8080/",
          "height": 629
        },
        "id": "5IiE5qDK6aHN",
        "outputId": "b85ec40f-e29c-4050-c8fd-e78f2813053e"
      },
      "source": [
        "# creating a pdp plot for single variables\n",
        "\n",
        "isolate = pdp_isolate(model_xg,\n",
        "                      X_test.fillna(value = 0), \n",
        "                      X_test.columns,\n",
        "                      feature = 'x_coordinate_2')\n",
        "\n",
        "plot = pdp_plot(isolate,\n",
        "                feature_name = 'x2')\n",
        "\n",
        "plot;"
      ],
      "execution_count": 347,
      "outputs": [
        {
          "output_type": "execute_result",
          "data": {
            "text/plain": [
              "(<Figure size 1080x684 with 2 Axes>,\n",
              " {'pdp_ax': <matplotlib.axes._subplots.AxesSubplot at 0x7fd36096b490>,\n",
              "  'title_ax': <matplotlib.axes._subplots.AxesSubplot at 0x7fd355418810>})"
            ]
          },
          "metadata": {
            "tags": []
          },
          "execution_count": 347
        },
        {
          "output_type": "display_data",
          "data": {
            "image/png": "[encoded data removed]",
            "text/plain": [
              "<Figure size 1080x684 with 2 Axes>"
            ]
          },
          "metadata": {
            "tags": [],
            "needs_background": "light"
          }
        }
      ]
    },
    {
      "cell_type": "code",
      "metadata": {
        "id": "TsQoXJ7X8VPl"
      },
      "source": [
        "# creating a PDP plot for the interaction between the x and y coordinates of the \n",
        "# pass receiver location\n",
        "\n",
        "interact = pdp_interact(model_xg,\n",
        "                        X_test,\n",
        "                        X_test.columns,\n",
        "                        features = ['x_coordinate_2', 'y_coordinate_2'])\n",
        "\n",
        "interact_plot = pdp_interact_plot(interact,\n",
        "                                  feature_names = ['x_coord', 'y_coord'],\n",
        "                                  plot_type = 'grid')\n",
        "\n",
        "interact_plot\n",
        "plt.savefig('interactplot.png')\n",
        "plt.show()"
      ],
      "execution_count": null,
      "outputs": []
    },
    {
      "cell_type": "code",
      "metadata": {
        "id": "gO0_NaQLB_pF"
      },
      "source": [
        "# stitching the player data back onto the dataframe to enable player comparisons\n",
        "# using the model's output. \n",
        "\n",
        "features = X_test.columns\n",
        "\n",
        "player_df = pd.concat([df, player_eval], axis =1)\n",
        "player_df['predicted_pass_prob'] = model_xg.predict_proba(df[features])[:,1]\n",
        "otters = player_df[player_df['team'] == 'Erie Otters']"
      ],
      "execution_count": 17,
      "outputs": []
    },
    {
      "cell_type": "code",
      "metadata": {
        "id": "86YHfmrKCQV3"
      },
      "source": [
        "# creating a dataframe of Erie Otters players when they're the passer\n",
        "\n",
        "otters_passers = otters.groupby('player').agg(avg_model_pass_prob = ('predicted_pass_prob', 'mean'),\n",
        "                                              pass_success_rate = ('pass_success', 'mean'),\n",
        "                                              total_passes = ('player', 'count'))\n"
      ],
      "execution_count": 24,
      "outputs": []
    },
    {
      "cell_type": "code",
      "metadata": {
        "id": "fr1lER5wDFk2"
      },
      "source": [
        "# creating a DataFrame of Erie Otter players when they're the pass target\n",
        "\n",
        "otters_targets = otters.groupby('player_2').agg(avg_model_rec_prob = ('predicted_pass_prob', 'mean'),\n",
        "                                                 receive_succ_rate = ('pass_success', 'mean'),\n",
        "                                                 total_targets = ('player_2', 'count')\n",
        "                                                 )"
      ],
      "execution_count": 35,
      "outputs": []
    }
  ]
}